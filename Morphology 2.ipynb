{
 "cells": [
  {
   "cell_type": "markdown",
   "metadata": {},
   "source": [
    "# Морфология 2\n",
    "В данном ноутбуке находится задание на триграммы и словарь. В качестве текста будем использовать томик войны и мира: https://goo.gl/qcVTLE \n",
    "\n",
    "Для начала напомним некоторые полезные инструменты на питоне"
   ]
  },
  {
   "cell_type": "markdown",
   "metadata": {},
   "source": [
    "## 1. Инструменты"
   ]
  },
  {
   "cell_type": "markdown",
   "metadata": {},
   "source": [
    "### 1.1. Регулярные выражения\n",
    "Исчерпывающий пост https://habr.com/ru/post/349860/"
   ]
  },
  {
   "cell_type": "code",
   "execution_count": 1,
   "metadata": {},
   "outputs": [
    {
     "name": "stdout",
     "output_type": "stream",
     "text": [
      "Находим числа в строке:  ['49', '432']\n",
      "Простенький токенизатор:  ['How', 'to', 'split', 'text']\n",
      "Еще один токенизатор:  ['How', 'to', 'split', 'text', 'Again']\n"
     ]
    }
   ],
   "source": [
    "import re\n",
    "\n",
    "# С помощью рег. выражения можно искать, заменять и сентезировать строки по шаблонам\n",
    "# Парочка простых примеров\n",
    "numbers = re.findall(r'\\d+', r'There is some numbers: 49 and 432')\n",
    "print('Находим числа в строке: ', numbers)\n",
    "\n",
    "print('Простенький токенизатор: ', re.sub('[,\\.?!]',' ','How, to? split. text!').split())\n",
    "\n",
    "print('Еще один токенизатор: ', re.split(r'\\W+', 'How, to? split. text! Again'))\n",
    "\n",
    "# в качестве тренировки придумайте свой токенизатор в случае, когда из текста нужно получить только русские слова."
   ]
  },
  {
   "cell_type": "markdown",
   "metadata": {},
   "source": [
    "### 1.2. Чтение файлов\n",
    "Чтобы не мучится самим с кодировками, приведем способ чтения файла корпуса."
   ]
  },
  {
   "cell_type": "code",
   "execution_count": 2,
   "metadata": {},
   "outputs": [
    {
     "name": "stdout",
     "output_type": "stream",
     "text": [
      " box_filter_2.py\t\t  'Morphology 2.ipynb'\t one.jpg\t wp.txt\r\n",
      " Morphology1_AstakhovAnton.ipynb   niki4.png\t\t Timka_1.ipynb\r\n"
     ]
    }
   ],
   "source": [
    "!ls"
   ]
  },
  {
   "cell_type": "code",
   "execution_count": 3,
   "metadata": {},
   "outputs": [],
   "source": [
    "text_file_path = 'wp.txt'"
   ]
  },
  {
   "cell_type": "code",
   "execution_count": 4,
   "metadata": {},
   "outputs": [],
   "source": [
    "import io\n",
    "wordlilist = None\n",
    "with io.open(text_file_path, \"r\") as text_file:\n",
    "    text = text_file.read()\n",
    "    wordlist = re.sub('[^а-я]',' ', text.lower()).split()"
   ]
  },
  {
   "cell_type": "markdown",
   "metadata": {},
   "source": [
    "### 1.3. ООП\n",
    "В питоне можно создавать свои классы, скорее всего нам понадобится класс для хранения бора"
   ]
  },
  {
   "cell_type": "code",
   "execution_count": 5,
   "metadata": {},
   "outputs": [],
   "source": [
    "class Node:\n",
    "    def __init__(self, data):\n",
    "        '''\n",
    "        Simple constructor without params\n",
    "        '''\n",
    "        self.data = data\n",
    "        self.children = []\n",
    "        self.finish = False\n",
    "        self.counter = 1\n",
    "\n",
    "        \n",
    "    def add_word(self, word):\n",
    "        node = self\n",
    "        \n",
    "        for elem in word:\n",
    "            found = False\n",
    "            for child in node.children:\n",
    "                if child.data == elem:\n",
    "                    child.counter += 1\n",
    "                    node = child\n",
    "                    found = True\n",
    "                    break\n",
    "\n",
    "            if not found:\n",
    "                new_node = Node(elem)\n",
    "                node.children.append(new_node)\n",
    "                node = new_node\n",
    "                \n",
    "        node.finish = True\n",
    "        \n",
    "    def is_in(self, word):\n",
    "        node = self\n",
    "        \n",
    "        for elem in word:\n",
    "            found = False\n",
    "            for child in node.children:\n",
    "                if child.data == elem:\n",
    "                    node = child\n",
    "                    found = True\n",
    "                    break\n",
    "                    \n",
    "            if not found:\n",
    "                return False\n",
    "            \n",
    "        if node.finish:\n",
    "            return True\n",
    "        else:\n",
    "            return False"
   ]
  },
  {
   "cell_type": "code",
   "execution_count": 6,
   "metadata": {},
   "outputs": [],
   "source": [
    "bor = Node('#')\n",
    "for word in wordlist:\n",
    "    bor.add_word(word)"
   ]
  },
  {
   "cell_type": "code",
   "execution_count": 7,
   "metadata": {},
   "outputs": [
    {
     "data": {
      "text/plain": [
       "True"
      ]
     },
     "execution_count": 7,
     "metadata": {},
     "output_type": "execute_result"
    }
   ],
   "source": [
    "bor.is_in('лев')"
   ]
  },
  {
   "cell_type": "code",
   "execution_count": 8,
   "metadata": {},
   "outputs": [
    {
     "data": {
      "text/plain": [
       "False"
      ]
     },
     "execution_count": 8,
     "metadata": {},
     "output_type": "execute_result"
    }
   ],
   "source": [
    "bor.is_in('лапап')"
   ]
  },
  {
   "cell_type": "code",
   "execution_count": 9,
   "metadata": {},
   "outputs": [],
   "source": [
    "wordlist_new = ['##' + word + '##' for word in wordlist]"
   ]
  },
  {
   "cell_type": "code",
   "execution_count": 10,
   "metadata": {},
   "outputs": [
    {
     "data": {
      "text/plain": [
       "['##лев##', '##николаевич##', '##толстой##', '##война##', '##и##', '##мир##']"
      ]
     },
     "execution_count": 10,
     "metadata": {},
     "output_type": "execute_result"
    }
   ],
   "source": [
    "wordlist_new[:6]"
   ]
  },
  {
   "cell_type": "markdown",
   "metadata": {},
   "source": [
    "### 1.4. pyplot\n",
    "Довольно часто приходится построить какие-нибудт графики и гистограммы для изучения данных, с которыми придется работать. Для этого в питоне есть удобнейший модуль для этого - pyplot. Туториал: https://matplotlib.org/3.1.1/tutorials/introductory/pyplot.html"
   ]
  },
  {
   "cell_type": "code",
   "execution_count": 11,
   "metadata": {},
   "outputs": [],
   "source": [
    "#!pip install matplotlib # Установка модуля\n",
    "import matplotlib.pyplot as plt\n",
    "# команда чтобы картинки рисовались прямо в ноутбуке\n",
    "%matplotlib inline "
   ]
  },
  {
   "cell_type": "code",
   "execution_count": 12,
   "metadata": {},
   "outputs": [
    {
     "data": {
      "text/plain": [
       "[<matplotlib.lines.Line2D at 0x7f11a4fbf5c0>]"
      ]
     },
     "execution_count": 12,
     "metadata": {},
     "output_type": "execute_result"
    },
    {
     "data": {
      "image/png": "[encoded data removed]",
      "text/plain": [
       "<Figure size 432x288 with 1 Axes>"
      ]
     },
     "metadata": {
      "needs_background": "light"
     },
     "output_type": "display_data"
    }
   ],
   "source": [
    "# Посмотрим на график функции x^2\n",
    "data = [i * i for i in range(100)]\n",
    "plt.plot(data)"
   ]
  },
  {
   "cell_type": "code",
   "execution_count": 13,
   "metadata": {},
   "outputs": [
    {
     "data": {
      "text/plain": [
       "(array([32., 13., 10.,  8.,  8.,  6.,  6.,  6.,  5.,  6.]),\n",
       " array([   0. ,  980.1, 1960.2, 2940.3, 3920.4, 4900.5, 5880.6, 6860.7,\n",
       "        7840.8, 8820.9, 9801. ]),\n",
       " <a list of 10 Patch objects>)"
      ]
     },
     "execution_count": 13,
     "metadata": {},
     "output_type": "execute_result"
    },
    {
     "data": {
      "image/png": "[encoded data removed]",
      "text/plain": [
       "<Figure size 432x288 with 1 Axes>"
      ]
     },
     "metadata": {
      "needs_background": "light"
     },
     "output_type": "display_data"
    }
   ],
   "source": [
    "# и распределение по значениям\n",
    "plt.hist(data)"
   ]
  },
  {
   "cell_type": "markdown",
   "metadata": {},
   "source": [
    "Также полезная команда для подсчета времения выполнеия в ячейке"
   ]
  },
  {
   "cell_type": "code",
   "execution_count": 14,
   "metadata": {},
   "outputs": [
    {
     "name": "stdout",
     "output_type": "stream",
     "text": [
      "CPU times: user 10.4 s, sys: 3.13 ms, total: 10.4 s\n",
      "Wall time: 10.4 s\n"
     ]
    }
   ],
   "source": [
    "%%time\n",
    "res = 0\n",
    "for i in range(int(1e8)):\n",
    "    res += 1"
   ]
  },
  {
   "cell_type": "markdown",
   "metadata": {},
   "source": [
    "## 2. Задание\n",
    "Собственно теперь нам потребуется написать подсчет триграмм и бор для словаря, чтобы реализовать простенькую систему исправления ошибок."
   ]
  },
  {
   "cell_type": "markdown",
   "metadata": {},
   "source": [
    "### 2.1. Триграммы\n",
    "Для начала получим словарь триграмма - её кол-во в тексте, не забывая о начале и конце слова.\n",
    "\n",
    "Далее можно построить гистограмму на кол-во вхождений триграмм, и посмотреть самые частые и какая частота у каких-нибудь заведомо странных, например: 'чгк', 'шкя' и подобные. Из полученных данных придумать эвристику, как считать слово с опечаткой. Проверить эвристику по словарю."
   ]
  },
  {
   "cell_type": "code",
   "execution_count": 15,
   "metadata": {},
   "outputs": [],
   "source": [
    "from nltk.util import ngrams\n",
    "import numpy as np\n",
    "import collections"
   ]
  },
  {
   "cell_type": "code",
   "execution_count": 16,
   "metadata": {},
   "outputs": [],
   "source": [
    "def corpus_trigrams(word_list):\n",
    "    '''returns trigrams count dictionary'''\n",
    "    \n",
    "    let_3 = []\n",
    "    for i in range(len(word_list)):\n",
    "        for elem in ngrams(word_list[i], 3):\n",
    "            let_3.append(elem)\n",
    "    print(let_3)\n",
    "    \n",
    "    c = collections.Counter() \n",
    "    for i in range(len(let_3)):\n",
    "        c[let_3[i]] += 1\n",
    "    \n",
    "    return c"
   ]
  },
  {
   "cell_type": "code",
   "execution_count": 17,
   "metadata": {
    "scrolled": true
   },
   "outputs": [
    {
     "name": "stderr",
     "output_type": "stream",
     "text": [
      "IOPub data rate exceeded.\n",
      "The notebook server will temporarily stop sending output\n",
      "to the client in order to avoid crashing it.\n",
      "To change this limit, set the config variable\n",
      "`--NotebookApp.iopub_data_rate_limit`.\n",
      "\n",
      "Current values:\n",
      "NotebookApp.iopub_data_rate_limit=1000000.0 (bytes/sec)\n",
      "NotebookApp.rate_limit_window=3.0 (secs)\n",
      "\n"
     ]
    }
   ],
   "source": [
    "my_dict = corpus_trigrams(wordlist_new)"
   ]
  },
  {
   "cell_type": "code",
   "execution_count": 18,
   "metadata": {},
   "outputs": [
    {
     "data": {
      "text/plain": [
       "746926"
      ]
     },
     "execution_count": 18,
     "metadata": {},
     "output_type": "execute_result"
    }
   ],
   "source": [
    "# Кол-во триграмм\n",
    "num_tri = 0\n",
    "for elem in my_dict:\n",
    "    num_tri += my_dict[elem]\n",
    "num_tri"
   ]
  },
  {
   "cell_type": "code",
   "execution_count": 19,
   "metadata": {},
   "outputs": [],
   "source": [
    "import matplotlib.pyplot as plt"
   ]
  },
  {
   "cell_type": "code",
   "execution_count": 20,
   "metadata": {
    "scrolled": true
   },
   "outputs": [
    {
     "data": {
      "image/png": "[encoded data removed]",
      "text/plain": [
       "<Figure size 1152x1368 with 1 Axes>"
      ]
     },
     "metadata": {
      "needs_background": "light"
     },
     "output_type": "display_data"
    }
   ],
   "source": [
    "plt.figure(figsize=(16, 19))\n",
    "plt.plot([elem[1] for elem in my_dict.most_common(1000)])\n",
    "plt.yticks(range(100, 14000, 500))\n",
    "plt.grid(True)\n",
    "plt.show()"
   ]
  },
  {
   "cell_type": "code",
   "execution_count": 21,
   "metadata": {},
   "outputs": [],
   "source": [
    "def is_error(word):\n",
    "    '''is the word with mistake\n",
    "    return place of the error'''\n",
    "    word = '##' + word + '##'\n",
    "    for i, elem in enumerate(ngrams(word, 3)):\n",
    "        if my_dict[elem] <= 50:\n",
    "            return True\n",
    "    \n",
    "    return False\n",
    "        "
   ]
  },
  {
   "cell_type": "code",
   "execution_count": 22,
   "metadata": {
    "scrolled": true
   },
   "outputs": [
    {
     "data": {
      "text/plain": [
       "False"
      ]
     },
     "execution_count": 22,
     "metadata": {},
     "output_type": "execute_result"
    }
   ],
   "source": [
    "is_error('лев')"
   ]
  },
  {
   "cell_type": "markdown",
   "metadata": {},
   "source": [
    "### 2.2. Бор\n",
    "Далее построим бор, с помощью которого будем искать исправления опечатки в слове. Пока только в случае замены и удаления в конце (Если есть желание, то можно и для всех случаев). Также сравнить по времени с поиском в случае замены в исходном слове последних двух символов и поиске в словаре."
   ]
  },
  {
   "cell_type": "code",
   "execution_count": 23,
   "metadata": {},
   "outputs": [],
   "source": [
    "def levenshtein(seq1, seq2):\n",
    "    size_x = len(seq1) + 1\n",
    "    size_y = len(seq2) + 1\n",
    "    matrix = np.zeros((size_x, size_y))\n",
    "    for x in range(size_x):\n",
    "        matrix[x, 0] = x\n",
    "    for y in range(size_y):\n",
    "        matrix[0, y] = y\n",
    "\n",
    "    for x in range(1, size_x):\n",
    "        for y in range(1, size_y):\n",
    "            if seq1[x - 1] == seq2[y - 1]:\n",
    "                matrix [x,y] = min(\n",
    "                    matrix[x - 1, y] + 1,\n",
    "                    matrix[x - 1, y - 1],\n",
    "                    matrix[x, y - 1] + 1\n",
    "                )\n",
    "            else:\n",
    "                matrix [x,y] = min(\n",
    "                    matrix[x - 1, y] + 1,\n",
    "                    matrix[x - 1, y - 1] + 1,\n",
    "                    matrix[x, y - 1] + 1\n",
    "                )\n",
    "    #print (matrix)\n",
    "    return (matrix[size_x - 1, size_y - 1])"
   ]
  },
  {
   "cell_type": "code",
   "execution_count": 24,
   "metadata": {},
   "outputs": [
    {
     "data": {
      "text/plain": [
       "1.0"
      ]
     },
     "execution_count": 24,
     "metadata": {},
     "output_type": "execute_result"
    }
   ],
   "source": [
    "levenshtein('корова', 'карова')"
   ]
  },
  {
   "cell_type": "code",
   "execution_count": 25,
   "metadata": {},
   "outputs": [],
   "source": [
    "alpha_rus = set('а, б, в, г, д, е, ё, ж, з, и, й, к, л, м, н, о, п, р, с, т, у, ф, х, ц, ч, ш, щ, ъ, ы, ь, э, ю, я'.split(', '))"
   ]
  },
  {
   "cell_type": "code",
   "execution_count": 128,
   "metadata": {},
   "outputs": [],
   "source": [
    "import copy\n",
    "def correct_word(word):\n",
    "    '''returns most similar word from dictionary'''\n",
    "\n",
    "    if not is_error(word):\n",
    "        return word\n",
    "    \n",
    "    global found, found_word\n",
    "    found = False\n",
    "    found_word = ''\n",
    "    \n",
    "    create(bor, 0, '#' + word)\n",
    "    \n",
    "    if not found:\n",
    "        return word\n",
    "    else:\n",
    "        return found_word[1:]\n",
    "    \n",
    "def create(node, pos, word, new_word='', change=0):\n",
    "    global found, found_word \n",
    "    if found:\n",
    "        return\n",
    "    \n",
    "    new_word = copy.copy(new_word + node.data)\n",
    "    if word[pos] != node.data:\n",
    "        change += 1\n",
    "        if change > 2:\n",
    "            return\n",
    "    \n",
    "    if node.finish:\n",
    "        if pos == len(word) - 2 and change < 2:\n",
    "            found = True\n",
    "            found_word = copy.copy(new_word)\n",
    "        if pos == len(word) - 1:\n",
    "            found = True\n",
    "            found_word = copy.copy(new_word)\n",
    "            \n",
    "    if pos == len(word) - 1:\n",
    "        return\n",
    "    \n",
    "    \n",
    "    for child in node.children:\n",
    "        if child.counter > 1:\n",
    "            create(child, pos + 1, word, new_word, change)\n",
    "    \n",
    "def second(elem):\n",
    "    return elem[1]\n",
    "    \n",
    "def correct_word_naive(word):\n",
    "    '''correct word using generation'''\n",
    "    if not is_error(word):\n",
    "        return word\n",
    "    \n",
    "    global cand\n",
    "    cand = []\n",
    "    \n",
    "    create_naive(0, word)\n",
    "    cand.sort(key = second)\n",
    "    #print(cand)\n",
    "    for elem in cand:\n",
    "        if bor.is_in(elem[0]):\n",
    "            return elem[0]\n",
    "        \n",
    "    return word\n",
    "    \n",
    "    \n",
    "def create_naive(pos, word, new_word=''):\n",
    "    if levenshtein(word[:pos + 1], new_word) > 1:\n",
    "        #print(new_word)\n",
    "        return\n",
    "    \n",
    "    global cand\n",
    "    \n",
    "    if pos == len(word):\n",
    "        cand.append((copy.copy(new_word), levenshtein(word, new_word)))\n",
    "        return\n",
    "    \n",
    "    for elem in alpha_rus:\n",
    "        create_naive(pos + 1, word, new_word + elem)\n",
    "    "
   ]
  },
  {
   "cell_type": "code",
   "execution_count": 97,
   "metadata": {},
   "outputs": [
    {
     "data": {
      "text/plain": [
       "'каков'"
      ]
     },
     "execution_count": 97,
     "metadata": {},
     "output_type": "execute_result"
    }
   ],
   "source": [
    "correct_word('кйкова')"
   ]
  },
  {
   "cell_type": "code",
   "execution_count": 98,
   "metadata": {
    "scrolled": false
   },
   "outputs": [
    {
     "data": {
      "text/plain": [
       "'какая'"
      ]
     },
     "execution_count": 98,
     "metadata": {},
     "output_type": "execute_result"
    }
   ],
   "source": [
    "correct_word('кабан')"
   ]
  },
  {
   "cell_type": "code",
   "execution_count": 119,
   "metadata": {
    "scrolled": true
   },
   "outputs": [
    {
     "data": {
      "text/plain": [
       "'воль'"
      ]
     },
     "execution_count": 119,
     "metadata": {},
     "output_type": "execute_result"
    }
   ],
   "source": [
    "correct_word_naive('волй')"
   ]
  },
  {
   "cell_type": "markdown",
   "metadata": {},
   "source": [
    "### 2.3 Все вместе\n",
    "Теперь соберем поиск и исправление опечаток в одну систему, которая будет принимать текст и править его. Также замерим скорость по сравнению с \"менее наивным подходом\"."
   ]
  },
  {
   "cell_type": "code",
   "execution_count": 114,
   "metadata": {},
   "outputs": [],
   "source": [
    "def correct_mistakes(text):\n",
    "    '''returns corrected text'''\n",
    "    words = []\n",
    "    for word in text.lower().split():\n",
    "        words.append(correct_word(word))\n",
    "    return ' '.join(words)\n",
    "\n",
    "def correct_mistakes_naive(text):\n",
    "    '''returns corrected text using generation'''\n",
    "    words = []\n",
    "    for word in text.lower().split():\n",
    "        words.append(correct_word_naive(word))\n",
    "    return ' '.join(words)"
   ]
  },
  {
   "cell_type": "code",
   "execution_count": 126,
   "metadata": {},
   "outputs": [
    {
     "name": "stdout",
     "output_type": "stream",
     "text": [
      "9.54 ms ± 481 µs per loop (mean ± std. dev. of 7 runs, 100 loops each)\n"
     ]
    }
   ],
   "source": [
    "%%timeit\n",
    "correct_mistakes(\"Дима лаг на деван  Дима кухал пиражок  На улице было тепло  Пиражок был вкусным  Дима сегодня молодец.\")"
   ]
  },
  {
   "cell_type": "code",
   "execution_count": 129,
   "metadata": {},
   "outputs": [
    {
     "name": "stdout",
     "output_type": "stream",
     "text": [
      "330 ms ± 20.5 ms per loop (mean ± std. dev. of 7 runs, 1 loop each)\n"
     ]
    }
   ],
   "source": [
    "%%timeit\n",
    "correct_mistakes_naive(\"Дима лаг на деван  Дима кухал пиражок  На улице было тепло  Пиражок был вкусным  Дима сегодня молодец.\")"
   ]
  },
  {
   "cell_type": "code",
   "execution_count": null,
   "metadata": {},
   "outputs": [],
   "source": []
  }
 ],
 "metadata": {
  "kernelspec": {
   "display_name": "Python 2",
   "language": "python",
   "name": "python2"
  },
  "language_info": {
   "codemirror_mode": {
    "name": "ipython",
    "version": 3
   },
   "file_extension": ".py",
   "mimetype": "text/x-python",
   "name": "python",
   "nbconvert_exporter": "python",
   "pygments_lexer": "ipython3",
   "version": "3.7.2"
  }
 },
 "nbformat": 4,
 "nbformat_minor": 2
}
