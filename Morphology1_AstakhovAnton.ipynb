{
 "cells": [
  {
   "cell_type": "markdown",
   "metadata": {},
   "source": [
    "# Морфология 1\n",
    "\n",
    "Здесь мы познакомимся с двумя мофрологическими анализоторами: pymorphy и mystem."
   ]
  },
  {
   "cell_type": "code",
   "execution_count": 1,
   "metadata": {},
   "outputs": [],
   "source": [
    "sample_text = u'Гло́кая ку́здра ште́ко будлану́ла бо́кра и курдя́чит бокрёнка'"
   ]
  },
  {
   "cell_type": "markdown",
   "metadata": {},
   "source": [
    "### 1. MyStem"
   ]
  },
  {
   "cell_type": "code",
   "execution_count": null,
   "metadata": {},
   "outputs": [],
   "source": [
    "# поставим модуль если он еще не стоит\n",
    "!pip install pymystem3"
   ]
  },
  {
   "cell_type": "code",
   "execution_count": 2,
   "metadata": {},
   "outputs": [],
   "source": [
    "from pymystem3 import Mystem\n",
    "# инициализация собственно инициализатора\n",
    "mystem_analyzer = Mystem(entire_input=False, disambiguation=False)\n",
    "# entire_output - сохранение всего входа (напр. пробелов)\n",
    "# disambiguation - снятие омонимии"
   ]
  },
  {
   "cell_type": "markdown",
   "metadata": {},
   "source": [
    "Две основные функции Mystem:\n",
    "- Проводить мофрологический анализ\n",
    "- Приводить начальные формы для слов в тексте"
   ]
  },
  {
   "cell_type": "code",
   "execution_count": 3,
   "metadata": {},
   "outputs": [],
   "source": [
    "mystem_result = mystem_analyzer.analyze(sample_text)\n",
    "mystem_lemmas = mystem_analyzer.lemmatize(sample_text)"
   ]
  },
  {
   "cell_type": "code",
   "execution_count": 4,
   "metadata": {
    "scrolled": true
   },
   "outputs": [
    {
     "name": "stdout",
     "output_type": "stream",
     "text": [
      "Гло́кая ку́здра ште́ко будлану́ла бо́кра и курдя́чит бокрёнка\n",
      "глокая\n",
      "куздра\n",
      "штеко\n",
      "будлануть\n",
      "бокра\n",
      "и\n",
      "курдячить\n",
      "бокренка\n"
     ]
    }
   ],
   "source": [
    "# Посмотрим, что у нас получилось при лемматизации \n",
    "# (да, чтобы вывести юникодные строки на втором питоне приходится так извращаться)\n",
    "print(sample_text)\n",
    "for word in mystem_lemmas:    \n",
    "    print(word)"
   ]
  },
  {
   "cell_type": "code",
   "execution_count": 10,
   "metadata": {},
   "outputs": [
    {
     "name": "stdout",
     "output_type": "stream",
     "text": [
      "Гло́кая\n",
      "\t {'lex': 'глокая', 'wt': 0.3605448292, 'qual': 'bastard', 'gr': 'S,ед,жен,неод=им'}\n",
      "\t {'lex': 'глокать', 'wt': 0.3605448292, 'qual': 'bastard', 'gr': 'V,несов=непрош,деепр,пе'}\n",
      "\t {'lex': 'глокая', 'wt': 0.1038369108, 'qual': 'bastard', 'gr': 'S,жен,од=им,ед'}\n",
      "\t {'lex': 'глокай', 'wt': 0.09304979929, 'qual': 'bastard', 'gr': 'S,муж,неод=род,ед'}\n",
      "\t {'lex': 'глокать', 'wt': 0.03306575604, 'qual': 'bastard', 'gr': 'V,несов,нп=непрош,деепр'}\n",
      "\t {'lex': 'глокий', 'wt': 0.01624943977, 'qual': 'bastard', 'gr': 'A=им,ед,полн,жен'}\n",
      "\t {'lex': 'глокать', 'wt': 0.01512198266, 'qual': 'bastard', 'gr': 'V,несов,пе=непрош,деепр'}\n",
      "\t {'lex': 'глокий', 'wt': 0.01077529943, 'qual': 'bastard', 'gr': 'A=им,ед,полн,жен'}\n",
      "\t {'lex': 'глокать', 'wt': 0.006811153662, 'qual': 'bastard', 'gr': 'V,нп=непрош,деепр,несов'}\n",
      "ку́здра\n",
      "\t {'lex': 'куздра', 'wt': 0.6292693823, 'qual': 'bastard', 'gr': 'S,ед,жен,неод=им'}\n",
      "\t {'lex': 'куздра', 'wt': 0.3707306177, 'qual': 'bastard', 'gr': 'S,гео,жен,неод=им,ед'}\n",
      "ште́ко\n",
      "\t {'lex': 'штеко', 'wt': 0.3217673592, 'qual': 'bastard', 'gr': 'S,имя,мж,од=(пр,мн|пр,ед|вин,мн|вин,ед|дат,мн|дат,ед|род,мн|род,ед|твор,мн|твор,ед|им,мн|им,ед)'}\n",
      "\t {'lex': 'штеко', 'wt': 0.2574119755, 'qual': 'bastard', 'gr': 'ADV='}\n",
      "\t {'lex': 'штеко', 'wt': 0.1608460987, 'qual': 'bastard', 'gr': 'S,сред,неод=(пр,мн|пр,ед|вин,мн|вин,ед|дат,мн|дат,ед|род,мн|род,ед|твор,мн|твор,ед|им,мн|им,ед)'}\n",
      "\t {'lex': 'штеко', 'wt': 0.08253134141, 'qual': 'bastard', 'gr': 'S,сред,неод=(вин,ед|им,ед)'}\n",
      "\t {'lex': 'штеко', 'wt': 0.07936870775, 'qual': 'bastard', 'gr': 'S,ед,сред,неод=(вин|им)'}\n",
      "\t {'lex': 'штеко', 'wt': 0.03215211714, 'qual': 'bastard', 'gr': 'S,имя,муж,од=(пр,мн|пр,ед|вин,мн|вин,ед|дат,мн|дат,ед|род,мн|род,ед|твор,мн|твор,ед|им,мн|им,ед)'}\n",
      "\t {'lex': 'штеко', 'wt': 0.03210293606, 'qual': 'bastard', 'gr': 'S,фам,мж,од=(пр,мн|пр,ед|вин,мн|вин,ед|дат,мн|дат,ед|род,мн|род,ед|твор,мн|твор,ед|им,мн|им,ед)'}\n",
      "\t {'lex': 'штеко', 'wt': 0.03208609722, 'qual': 'bastard', 'gr': 'S,гео,ед,муж,неод=(пр|вин|дат|род|твор|им)'}\n",
      "\t {'lex': 'штекий', 'wt': 0.001720046713, 'qual': 'bastard', 'gr': 'A=ед,кр,сред'}\n",
      "\t {'lex': 'штекий', 'wt': 1.332032949e-05, 'qual': 'bastard', 'gr': 'A=ед,кр,сред'}\n",
      "\t {'lex': 'штеко', 'wt': 0, 'qual': 'bastard', 'gr': 'S,имя,ед,муж,од=им'}\n",
      "будлану́ла\n",
      "\t {'lex': 'будлануть', 'wt': 0.2884335962, 'qual': 'bastard', 'gr': 'V,обсц,сов=прош,ед,изъяв,жен'}\n",
      "\t {'lex': 'будлануть', 'wt': 0.2884335962, 'qual': 'bastard', 'gr': 'V,разг,обсц,сов=прош,ед,изъяв,жен'}\n",
      "\t {'lex': 'будланула', 'wt': 0.09985378522, 'qual': 'bastard', 'gr': 'S,имя,жен,од=им,ед'}\n",
      "\t {'lex': 'будлануть', 'wt': 0.05695153583, 'qual': 'bastard', 'gr': 'V,сов,пе=прош,ед,изъяв,жен'}\n",
      "\t {'lex': 'будлануть', 'wt': 0.05212627477, 'qual': 'bastard', 'gr': 'V,сов,пе=прош,ед,изъяв,жен'}\n",
      "\t {'lex': 'будлануть', 'wt': 0.04770114448, 'qual': 'bastard', 'gr': 'V,сов,нп=прош,ед,изъяв,жен'}\n",
      "\t {'lex': 'будлануть', 'wt': 0.04683850382, 'qual': 'bastard', 'gr': 'V,сов,пе=прош,ед,изъяв,жен'}\n",
      "\t {'lex': 'будланула', 'wt': 0.04299689435, 'qual': 'bastard', 'gr': 'S,жен,неод=им,ед'}\n",
      "\t {'lex': 'будланул', 'wt': 0.03753661836, 'qual': 'bastard', 'gr': 'S,муж,од=(вин,ед|род,ед)'}\n",
      "\t {'lex': 'будлануть', 'wt': 0.02766311711, 'qual': 'bastard', 'gr': 'V,сов,нп=прош,ед,изъяв,жен'}\n",
      "\t {'lex': 'будланывать', 'wt': 0.01146493374, 'qual': 'bastard', 'gr': 'V,пе=прош,ед,изъяв,жен,сов'}\n",
      "бо́кра\n",
      "\t {'lex': 'бокра', 'wt': 0.8898982327, 'qual': 'bastard', 'gr': 'S,ед,жен,неод=им'}\n",
      "\t {'lex': 'бокрый', 'wt': 0.1101017673, 'qual': 'bastard', 'gr': 'A=ед,кр,жен'}\n",
      "и\n",
      "\t {'lex': 'и', 'wt': 0.9999770357, 'gr': 'CONJ='}\n",
      "\t {'lex': 'и', 'wt': 1.020511514e-05, 'gr': 'INTJ='}\n",
      "\t {'lex': 'и', 'wt': 6.379604644e-06, 'gr': 'S,сокр=(пр,мн|пр,ед|вин,мн|вин,ед|дат,мн|дат,ед|род,мн|род,ед|твор,мн|твор,ед|им,мн|им,ед)'}\n",
      "\t {'lex': 'и', 'wt': 6.37957056e-06, 'gr': 'PART='}\n",
      "курдя́чит\n",
      "\t {'lex': 'курдячить', 'wt': 0.5, 'qual': 'bastard', 'gr': 'V,обсц,сов,пе=непрош,ед,изъяв,3-л'}\n",
      "\t {'lex': 'курдячить', 'wt': 0.5, 'qual': 'bastard', 'gr': 'V,обсц,несов,пе=непрош,ед,изъяв,3-л'}\n",
      "бокрёнка\n",
      "\t {'lex': 'бокренка', 'wt': 0.2200160995, 'qual': 'bastard', 'gr': 'S,имя,жен,од=им,ед'}\n",
      "\t {'lex': 'бокренок', 'wt': 0.165166425, 'qual': 'bastard', 'gr': 'S,муж,неод=род,ед'}\n",
      "\t {'lex': 'бокренка', 'wt': 0.1392542771, 'qual': 'bastard', 'gr': 'S,жен,од=им,ед'}\n",
      "\t {'lex': 'бокренка', 'wt': 0.1240808471, 'qual': 'bastard', 'gr': 'S,жен,неод=им,ед'}\n",
      "\t {'lex': 'бокренок', 'wt': 0.1205990358, 'qual': 'bastard', 'gr': 'S,муж,неод=род,ед'}\n",
      "\t {'lex': 'бокренок', 'wt': 0.09129371203, 'qual': 'bastard', 'gr': 'S,муж,од=(вин,ед|род,ед)'}\n",
      "\t {'lex': 'бокренка', 'wt': 0.07074299558, 'qual': 'bastard', 'gr': 'S,имя,мж,од=им,ед'}\n",
      "\t {'lex': 'бокренк', 'wt': 0.06884660791, 'qual': 'bastard', 'gr': 'S,имя,муж,од=(вин,ед|род,ед)'}\n"
     ]
    }
   ],
   "source": [
    "# Ну и результат морфологического анализа\n",
    "# выведены всевозможные разборы, чтобы оценить масшатбы\n",
    "for word in mystem_result:\n",
    "    print(word['text'])\n",
    "    for res in word['analysis']:\n",
    "        print('\\t', res)"
   ]
  },
  {
   "cell_type": "markdown",
   "metadata": {},
   "source": [
    "Создадим теперь анализатор со снятием омонимии"
   ]
  },
  {
   "cell_type": "code",
   "execution_count": 11,
   "metadata": {},
   "outputs": [],
   "source": [
    "mystem_analyzer2 = Mystem(entire_input=False, disambiguation=True)"
   ]
  },
  {
   "cell_type": "code",
   "execution_count": 12,
   "metadata": {},
   "outputs": [],
   "source": [
    "mystem_result2 = mystem_analyzer2.analyze(sample_text)\n",
    "mystem_lemmas2 = mystem_analyzer2.lemmatize(sample_text)"
   ]
  },
  {
   "cell_type": "code",
   "execution_count": 16,
   "metadata": {},
   "outputs": [
    {
     "name": "stdout",
     "output_type": "stream",
     "text": [
      "Гло́кая ку́здра ште́ко будлану́ла бо́кра и курдя́чит бокрёнка\n",
      "глокая глокай\n",
      "куздра куздра\n",
      "штеко штеко\n",
      "будлануть будланул\n",
      "бокра бокра\n",
      "и и\n",
      "курдячить курдячить\n",
      "бокренка бокренок\n"
     ]
    }
   ],
   "source": [
    "print(sample_text, end=)\n",
    "for (word, word2) in zip(mystem_lemmas, mystem_lemmas2):    \n",
    "    print(word, word2)"
   ]
  },
  {
   "cell_type": "code",
   "execution_count": 18,
   "metadata": {},
   "outputs": [
    {
     "name": "stdout",
     "output_type": "stream",
     "text": [
      "Гло́кая\n",
      "\t {'lex': 'глокай', 'wt': 0.09304979929, 'qual': 'bastard', 'gr': 'S,муж,неод=род,ед'}\n",
      "ку́здра\n",
      "\t {'lex': 'куздра', 'wt': 0.6292693823, 'qual': 'bastard', 'gr': 'S,ед,жен,неод=им'}\n",
      "ште́ко\n",
      "\t {'lex': 'штеко', 'wt': 0.2574119755, 'qual': 'bastard', 'gr': 'ADV='}\n",
      "будлану́ла\n",
      "\t {'lex': 'будланул', 'wt': 0.03753661836, 'qual': 'bastard', 'gr': 'S,муж,од=(вин,ед|род,ед)'}\n",
      "бо́кра\n",
      "\t {'lex': 'бокра', 'wt': 0.8898982327, 'qual': 'bastard', 'gr': 'S,ед,жен,неод=им'}\n",
      "и\n",
      "\t {'lex': 'и', 'wt': 0.9999770357, 'gr': 'CONJ='}\n",
      "курдя́чит\n",
      "\t {'lex': 'курдячить', 'wt': 0.5, 'qual': 'bastard', 'gr': 'V,обсц,сов,пе=непрош,ед,изъяв,3-л'}\n",
      "бокрёнка\n",
      "\t {'lex': 'бокренок', 'wt': 0.165166425, 'qual': 'bastard', 'gr': 'S,муж,неод=род,ед'}\n"
     ]
    }
   ],
   "source": [
    "for word in mystem_result2:\n",
    "    print(word['text'])\n",
    "    for res in word['analysis']:\n",
    "        print('\\t', res)"
   ]
  },
  {
   "cell_type": "markdown",
   "metadata": {},
   "source": [
    "Проблемы MyStem"
   ]
  },
  {
   "cell_type": "code",
   "execution_count": 22,
   "metadata": {},
   "outputs": [
    {
     "name": "stdout",
     "output_type": "stream",
     "text": [
      "александра иванов пойти в кино \n",
      "александра иванов видеть в кино с кто-то \n",
      "воробей сегодня вставать не с тот нога \n"
     ]
    }
   ],
   "source": [
    "disambiguations = [ 'Александра Иванова пошла в кино',\n",
    "                    'Александра Иванова видели в кино с кем-то',\n",
    "                    'Воробьев сегодня встал не с той ноги']\n",
    "\n",
    "disambiguation_results = []\n",
    "for dis in disambiguations:\n",
    "    disambiguation_results.append(mystem_analyzer2.lemmatize(dis))\n",
    "    \n",
    "for res in disambiguation_results:\n",
    "    for word in res:\n",
    "        print(word, end=' ')\n",
    "    print()"
   ]
  },
  {
   "cell_type": "markdown",
   "metadata": {},
   "source": [
    "#### Задание\n",
    "Для того, чтобы наиграться с MyStem, предлагается написать методы, которые:\n",
    "- находит топ n лексем\n",
    "- находит слова с наибольшей и наименьшей энтропией"
   ]
  },
  {
   "cell_type": "code",
   "execution_count": 29,
   "metadata": {},
   "outputs": [],
   "source": [
    "from nltk import FreqDist\n",
    "import numpy as np"
   ]
  },
  {
   "cell_type": "code",
   "execution_count": 86,
   "metadata": {},
   "outputs": [],
   "source": [
    "def get_top_words(text, n):\n",
    "    '''\n",
    "    :param text: input text in russian\n",
    "    :param n: number of most common words\n",
    "    :return: list of most common lexemas\n",
    "    '''\n",
    "    res = mystem_analyzer.lemmatize(text)\n",
    "    return [word_freq[0] for word_freq in FreqDist(res).most_common(n)]\n",
    "\n",
    "def get_max_entropy_words(text, n):\n",
    "    '''\n",
    "    :param text: input text in russian\n",
    "    :param n: number of most words with maximun entropy\n",
    "    :return: list of words with entropies\n",
    "    '''\n",
    "    words, num = np.unique(mystem_analyzer.lemmatize(text), return_counts=True)\n",
    "    freq = num / len(words)\n",
    "    each_entropy = -freq * np.log2(freq)\n",
    "    indexes = np.argsort(each_entropy)[::-1]\n",
    "    for word, ent in zip(words[indexes][:n], each_entropy[indexes][:n]):\n",
    "        print(word, ent, sep=' : ')\n",
    "        \n",
    "def get_min_entropy_words(text, n):\n",
    "    '''\n",
    "    :param text: input text in russian\n",
    "    :param n: number of most words with minimum entropy\n",
    "    :return: list of words with entropies\n",
    "    '''\n",
    "    words, num = np.unique(mystem_analyzer.lemmatize(text), return_counts=True)\n",
    "    freq = num / len(words)\n",
    "    each_entropy = -freq * np.log2(freq)\n",
    "    indexes = np.argsort(each_entropy)\n",
    "    for word, ent in zip(words[indexes][:n], each_entropy[indexes][:n]):\n",
    "        print(word, ent, sep=' : ')"
   ]
  },
  {
   "cell_type": "code",
   "execution_count": 87,
   "metadata": {},
   "outputs": [],
   "source": [
    "text = 'Дима шел по улице. Дима ел пирожок. На улице было тепло. Пирожок был вкусным. Дима сегодня молодец.'\n",
    "n = 4 "
   ]
  },
  {
   "cell_type": "code",
   "execution_count": 88,
   "metadata": {
    "scrolled": true
   },
   "outputs": [
    {
     "data": {
      "text/plain": [
       "['дима', 'улица', 'пирожок', 'быть']"
      ]
     },
     "execution_count": 88,
     "metadata": {},
     "output_type": "execute_result"
    }
   ],
   "source": [
    "get_top_words(text, n)"
   ]
  },
  {
   "cell_type": "code",
   "execution_count": 89,
   "metadata": {},
   "outputs": [
    {
     "name": "stdout",
     "output_type": "stream",
     "text": [
      "дима : 0.5\n",
      "улица : 0.430827083453526\n",
      "пирожок : 0.430827083453526\n",
      "быть : 0.430827083453526\n"
     ]
    }
   ],
   "source": [
    "get_max_entropy_words(text, n)"
   ]
  },
  {
   "cell_type": "code",
   "execution_count": 90,
   "metadata": {},
   "outputs": [
    {
     "name": "stdout",
     "output_type": "stream",
     "text": [
      "вкусный : 0.29874687506009634\n",
      "есть : 0.29874687506009634\n",
      "идти : 0.29874687506009634\n",
      "молодец : 0.29874687506009634\n"
     ]
    }
   ],
   "source": [
    "get_min_entropy_words(text, n)"
   ]
  },
  {
   "cell_type": "markdown",
   "metadata": {},
   "source": [
    "### 2. Pymorphy"
   ]
  },
  {
   "cell_type": "code",
   "execution_count": 91,
   "metadata": {},
   "outputs": [
    {
     "name": "stdout",
     "output_type": "stream",
     "text": [
      "Requirement already satisfied: pymorphy2 in /home/anton/anaconda3/lib/python3.7/site-packages (0.8)\n",
      "Requirement already satisfied: docopt>=0.6 in /home/anton/anaconda3/lib/python3.7/site-packages (from pymorphy2) (0.6.2)\n",
      "Requirement already satisfied: dawg-python>=0.7 in /home/anton/anaconda3/lib/python3.7/site-packages (from pymorphy2) (0.7.2)\n",
      "Requirement already satisfied: pymorphy2-dicts<3.0,>=2.4 in /home/anton/anaconda3/lib/python3.7/site-packages (from pymorphy2) (2.4.393442.3710985)\n",
      "\u001b[33mYou are using pip version 10.0.1, however version 19.2.3 is available.\n",
      "You should consider upgrading via the 'pip install --upgrade pip' command.\u001b[0m\n",
      "Requirement already up-to-date: pymorphy2-dicts-ru in /home/anton/anaconda3/lib/python3.7/site-packages (2.4.404381.4453942)\n",
      "\u001b[33mYou are using pip version 10.0.1, however version 19.2.3 is available.\n",
      "You should consider upgrading via the 'pip install --upgrade pip' command.\u001b[0m\n"
     ]
    }
   ],
   "source": [
    "# установка модуля и словарей\n",
    "!pip install pymorphy2\n",
    "!pip install -U pymorphy2-dicts-ru"
   ]
  },
  {
   "cell_type": "code",
   "execution_count": 92,
   "metadata": {},
   "outputs": [],
   "source": [
    "# создание анализатора\n",
    "import pymorphy2\n",
    "morph = pymorphy2.MorphAnalyzer()"
   ]
  },
  {
   "cell_type": "code",
   "execution_count": 98,
   "metadata": {},
   "outputs": [],
   "source": [
    "# sample_text = u'Глокая куздра штеко будланула бокра и кудрячит бокренка'\n",
    "# в отличие от mystem работает пословно\n",
    "pymorphy_results = map(lambda x: morph.parse(x), sample_text.split())"
   ]
  },
  {
   "cell_type": "code",
   "execution_count": 99,
   "metadata": {
    "scrolled": true
   },
   "outputs": [
    {
     "name": "stdout",
     "output_type": "stream",
     "text": [
      "гло́кая\n",
      "Parse(word='гло́кая', tag=OpencorporaTag('NOUN,anim,masc,Name sing,gent'), normal_form='гло́кай', score=0.3333423559982676, methods_stack=((<DictionaryAnalyzer>, 'кая', 41, 1), (<UnknownPrefixAnalyzer>, 'гло́')))\n",
      "\t гло́кай NOUN,anim,masc,Name sing,gent 0.3333423559982676\n",
      "\n",
      "Parse(word='гло́кая', tag=OpencorporaTag('NOUN,anim,masc,Name sing,accs'), normal_form='гло́кай', score=0.3333423559982676, methods_stack=((<DictionaryAnalyzer>, 'кая', 41, 3), (<UnknownPrefixAnalyzer>, 'гло́')))\n",
      "\t гло́кай NOUN,anim,masc,Name sing,accs 0.3333423559982676\n",
      "\n",
      "Parse(word='гло́кая', tag=OpencorporaTag('ADJF femn,sing,nomn'), normal_form='гло́кий', score=0.3083315288003464, methods_stack=((<FakeDictionary>, 'гло́кая', 16, 7), (<KnownSuffixAnalyzer>, 'кая')))\n",
      "\t гло́кий ADJF femn,sing,nomn 0.3083315288003464\n",
      "\n",
      "Parse(word='гло́кая', tag=OpencorporaTag('NOUN,anim,femn,Sgtm,Surn sing,nomn'), normal_form='гло́кий', score=0.021410783889129488, methods_stack=((<FakeDictionary>, 'гло́кая', 102, 6), (<KnownSuffixAnalyzer>, 'кая')))\n",
      "\t гло́кий NOUN,anim,femn,Sgtm,Surn sing,nomn 0.021410783889129488\n",
      "\n",
      "Parse(word='гло́кая', tag=OpencorporaTag('GRND,impf,intr pres'), normal_form='гло́кать', score=0.0035729753139887395, methods_stack=((<FakeDictionary>, 'гло́кая', 15, 67), (<KnownSuffixAnalyzer>, 'кая')))\n",
      "\t гло́кать GRND,impf,intr pres 0.0035729753139887395\n",
      "\n",
      "ку́здра\n",
      "Parse(word='ку́здра', tag=OpencorporaTag('NOUN,inan,femn,Sgtm,Fixd,Abbr,Geox sing,nomn'), normal_form='ку́здра', score=0.15000000000000002, methods_stack=((<DictionaryAnalyzer>, 'дра', 1351, 0), (<UnknownPrefixAnalyzer>, 'ку́з')))\n",
      "\t ку́здра NOUN,inan,femn,Sgtm,Fixd,Abbr,Geox sing,nomn 0.15000000000000002\n",
      "\n",
      "Parse(word='ку́здра', tag=OpencorporaTag('NOUN,inan,femn,Sgtm,Fixd,Abbr,Geox sing,gent'), normal_form='ку́здра', score=0.15000000000000002, methods_stack=((<DictionaryAnalyzer>, 'дра', 1351, 1), (<UnknownPrefixAnalyzer>, 'ку́з')))\n",
      "\t ку́здра NOUN,inan,femn,Sgtm,Fixd,Abbr,Geox sing,gent 0.15000000000000002\n",
      "\n",
      "Parse(word='ку́здра', tag=OpencorporaTag('NOUN,inan,femn,Sgtm,Fixd,Abbr,Geox sing,datv'), normal_form='ку́здра', score=0.15000000000000002, methods_stack=((<DictionaryAnalyzer>, 'дра', 1351, 2), (<UnknownPrefixAnalyzer>, 'ку́з')))\n",
      "\t ку́здра NOUN,inan,femn,Sgtm,Fixd,Abbr,Geox sing,datv 0.15000000000000002\n",
      "\n",
      "Parse(word='ку́здра', tag=OpencorporaTag('NOUN,inan,femn,Sgtm,Fixd,Abbr,Geox sing,accs'), normal_form='ку́здра', score=0.15000000000000002, methods_stack=((<DictionaryAnalyzer>, 'дра', 1351, 3), (<UnknownPrefixAnalyzer>, 'ку́з')))\n",
      "\t ку́здра NOUN,inan,femn,Sgtm,Fixd,Abbr,Geox sing,accs 0.15000000000000002\n",
      "\n",
      "Parse(word='ку́здра', tag=OpencorporaTag('NOUN,inan,femn,Sgtm,Fixd,Abbr,Geox sing,ablt'), normal_form='ку́здра', score=0.15000000000000002, methods_stack=((<DictionaryAnalyzer>, 'дра', 1351, 4), (<UnknownPrefixAnalyzer>, 'ку́з')))\n",
      "\t ку́здра NOUN,inan,femn,Sgtm,Fixd,Abbr,Geox sing,ablt 0.15000000000000002\n",
      "\n",
      "Parse(word='ку́здра', tag=OpencorporaTag('NOUN,inan,femn,Sgtm,Fixd,Abbr,Geox sing,loct'), normal_form='ку́здра', score=0.15000000000000002, methods_stack=((<DictionaryAnalyzer>, 'дра', 1351, 5), (<UnknownPrefixAnalyzer>, 'ку́з')))\n",
      "\t ку́здра NOUN,inan,femn,Sgtm,Fixd,Abbr,Geox sing,loct 0.15000000000000002\n",
      "\n",
      "Parse(word='ку́здра', tag=OpencorporaTag('NOUN,inan,femn,Sgtm sing,nomn'), normal_form='ку́здра', score=0.05, methods_stack=((<FakeDictionary>, 'ку́здра', 29, 0), (<KnownSuffixAnalyzer>, 'здра')))\n",
      "\t ку́здра NOUN,inan,femn,Sgtm sing,nomn 0.05\n",
      "\n",
      "Parse(word='ку́здра', tag=OpencorporaTag('NOUN,inan,femn,Sgtm,Geox sing,nomn'), normal_form='ку́здра', score=0.05, methods_stack=((<FakeDictionary>, 'ку́здра', 35, 0), (<KnownSuffixAnalyzer>, 'здра')))\n",
      "\t ку́здра NOUN,inan,femn,Sgtm,Geox sing,nomn 0.05\n",
      "\n",
      "ште́ко\n",
      "Parse(word='ште́ко', tag=OpencorporaTag('NOUN,anim,GNdr,Ms-f,Fixd,Surn sing,nomn'), normal_form='ште́ко', score=0.07995028997514501, methods_stack=((<FakeDictionary>, 'ште́ко', 44, 0), (<KnownSuffixAnalyzer>, 'ко')))\n",
      "\t ште́ко NOUN,anim,GNdr,Ms-f,Fixd,Surn sing,nomn 0.07995028997514501\n",
      "\n",
      "Parse(word='ште́ко', tag=OpencorporaTag('NOUN,anim,GNdr,Ms-f,Fixd,Surn sing,gent'), normal_form='ште́ко', score=0.07995028997514501, methods_stack=((<FakeDictionary>, 'ште́ко', 44, 1), (<KnownSuffixAnalyzer>, 'ко')))\n",
      "\t ште́ко NOUN,anim,GNdr,Ms-f,Fixd,Surn sing,gent 0.07995028997514501\n",
      "\n",
      "Parse(word='ште́ко', tag=OpencorporaTag('NOUN,anim,GNdr,Ms-f,Fixd,Surn sing,datv'), normal_form='ште́ко', score=0.07995028997514501, methods_stack=((<FakeDictionary>, 'ште́ко', 44, 2), (<KnownSuffixAnalyzer>, 'ко')))\n",
      "\t ште́ко NOUN,anim,GNdr,Ms-f,Fixd,Surn sing,datv 0.07995028997514501\n",
      "\n",
      "Parse(word='ште́ко', tag=OpencorporaTag('NOUN,anim,GNdr,Ms-f,Fixd,Surn sing,accs'), normal_form='ште́ко', score=0.07995028997514501, methods_stack=((<FakeDictionary>, 'ште́ко', 44, 3), (<KnownSuffixAnalyzer>, 'ко')))\n",
      "\t ште́ко NOUN,anim,GNdr,Ms-f,Fixd,Surn sing,accs 0.07995028997514501\n",
      "\n",
      "Parse(word='ште́ко', tag=OpencorporaTag('NOUN,anim,GNdr,Ms-f,Fixd,Surn sing,ablt'), normal_form='ште́ко', score=0.07995028997514501, methods_stack=((<FakeDictionary>, 'ште́ко', 44, 4), (<KnownSuffixAnalyzer>, 'ко')))\n",
      "\t ште́ко NOUN,anim,GNdr,Ms-f,Fixd,Surn sing,ablt 0.07995028997514501\n",
      "\n",
      "Parse(word='ште́ко', tag=OpencorporaTag('NOUN,anim,GNdr,Ms-f,Fixd,Surn sing,loct'), normal_form='ште́ко', score=0.07995028997514501, methods_stack=((<FakeDictionary>, 'ште́ко', 44, 5), (<KnownSuffixAnalyzer>, 'ко')))\n",
      "\t ште́ко NOUN,anim,GNdr,Ms-f,Fixd,Surn sing,loct 0.07995028997514501\n",
      "\n",
      "Parse(word='ште́ко', tag=OpencorporaTag('NOUN,anim,GNdr,Ms-f,Fixd,Surn plur,nomn'), normal_form='ште́ко', score=0.07995028997514501, methods_stack=((<FakeDictionary>, 'ште́ко', 44, 6), (<KnownSuffixAnalyzer>, 'ко')))\n",
      "\t ште́ко NOUN,anim,GNdr,Ms-f,Fixd,Surn plur,nomn 0.07995028997514501\n",
      "\n",
      "Parse(word='ште́ко', tag=OpencorporaTag('NOUN,anim,GNdr,Ms-f,Fixd,Surn plur,gent'), normal_form='ште́ко', score=0.07995028997514501, methods_stack=((<FakeDictionary>, 'ште́ко', 44, 7), (<KnownSuffixAnalyzer>, 'ко')))\n",
      "\t ште́ко NOUN,anim,GNdr,Ms-f,Fixd,Surn plur,gent 0.07995028997514501\n",
      "\n",
      "Parse(word='ште́ко', tag=OpencorporaTag('NOUN,anim,GNdr,Ms-f,Fixd,Surn plur,datv'), normal_form='ште́ко', score=0.07995028997514501, methods_stack=((<FakeDictionary>, 'ште́ко', 44, 8), (<KnownSuffixAnalyzer>, 'ко')))\n",
      "\t ште́ко NOUN,anim,GNdr,Ms-f,Fixd,Surn plur,datv 0.07995028997514501\n",
      "\n",
      "Parse(word='ште́ко', tag=OpencorporaTag('NOUN,anim,GNdr,Ms-f,Fixd,Surn plur,accs'), normal_form='ште́ко', score=0.07995028997514501, methods_stack=((<FakeDictionary>, 'ште́ко', 44, 9), (<KnownSuffixAnalyzer>, 'ко')))\n",
      "\t ште́ко NOUN,anim,GNdr,Ms-f,Fixd,Surn plur,accs 0.07995028997514501\n",
      "\n",
      "Parse(word='ште́ко', tag=OpencorporaTag('NOUN,anim,GNdr,Ms-f,Fixd,Surn plur,ablt'), normal_form='ште́ко', score=0.07995028997514501, methods_stack=((<FakeDictionary>, 'ште́ко', 44, 10), (<KnownSuffixAnalyzer>, 'ко')))\n",
      "\t ште́ко NOUN,anim,GNdr,Ms-f,Fixd,Surn plur,ablt 0.07995028997514501\n",
      "\n",
      "Parse(word='ште́ко', tag=OpencorporaTag('NOUN,anim,GNdr,Ms-f,Fixd,Surn plur,loct'), normal_form='ште́ко', score=0.07995028997514501, methods_stack=((<FakeDictionary>, 'ште́ко', 44, 11), (<KnownSuffixAnalyzer>, 'ко')))\n",
      "\t ште́ко NOUN,anim,GNdr,Ms-f,Fixd,Surn plur,loct 0.07995028997514501\n",
      "\n",
      "Parse(word='ште́ко', tag=OpencorporaTag('ADVB'), normal_form='ште́ко', score=0.019469759734879875, methods_stack=((<FakeDictionary>, 'ште́ко', 3, 0), (<KnownSuffixAnalyzer>, 'ко')))\n",
      "\t ште́ко ADVB 0.019469759734879875\n",
      "\n",
      "Parse(word='ште́ко', tag=OpencorporaTag('ADJS neut,sing'), normal_form='ште́кий', score=0.007870753935376971, methods_stack=((<FakeDictionary>, 'ште́ко', 377, 29), (<KnownSuffixAnalyzer>, 'ко')))\n",
      "\t ште́кий ADJS neut,sing 0.007870753935376971\n",
      "\n",
      "Parse(word='ште́ко', tag=OpencorporaTag('ADJF,Fixd,Subx,Qual masc,sing,nomn'), normal_form='ште́ко', score=0.0005523336095001382, methods_stack=((<FakeDictionary>, 'ште́ко', 180, 0), (<KnownSuffixAnalyzer>, 'ко')))\n",
      "\t ште́ко ADJF,Fixd,Subx,Qual masc,sing,nomn 0.0005523336095001382\n",
      "\n",
      "Parse(word='ште́ко', tag=OpencorporaTag('ADJF,Fixd,Subx,Qual masc,sing,gent'), normal_form='ште́ко', score=0.0005523336095001382, methods_stack=((<FakeDictionary>, 'ште́ко', 180, 1), (<KnownSuffixAnalyzer>, 'ко')))\n",
      "\t ште́ко ADJF,Fixd,Subx,Qual masc,sing,gent 0.0005523336095001382\n",
      "\n",
      "Parse(word='ште́ко', tag=OpencorporaTag('ADJF,Fixd,Subx,Qual masc,sing,datv'), normal_form='ште́ко', score=0.0005523336095001382, methods_stack=((<FakeDictionary>, 'ште́ко', 180, 2), (<KnownSuffixAnalyzer>, 'ко')))\n",
      "\t ште́ко ADJF,Fixd,Subx,Qual masc,sing,datv 0.0005523336095001382\n",
      "\n",
      "Parse(word='ште́ко', tag=OpencorporaTag('ADJF,Fixd,Subx,Qual masc,sing,accs'), normal_form='ште́ко', score=0.0005523336095001382, methods_stack=((<FakeDictionary>, 'ште́ко', 180, 3), (<KnownSuffixAnalyzer>, 'ко')))\n",
      "\t ште́ко ADJF,Fixd,Subx,Qual masc,sing,accs 0.0005523336095001382\n",
      "\n",
      "Parse(word='ште́ко', tag=OpencorporaTag('ADJF,Fixd,Subx,Qual masc,sing,ablt'), normal_form='ште́ко', score=0.0005523336095001382, methods_stack=((<FakeDictionary>, 'ште́ко', 180, 4), (<KnownSuffixAnalyzer>, 'ко')))\n",
      "\t ште́ко ADJF,Fixd,Subx,Qual masc,sing,ablt 0.0005523336095001382\n",
      "\n",
      "Parse(word='ште́ко', tag=OpencorporaTag('ADJF,Fixd,Subx,Qual masc,sing,loct'), normal_form='ште́ко', score=0.0005523336095001382, methods_stack=((<FakeDictionary>, 'ште́ко', 180, 5), (<KnownSuffixAnalyzer>, 'ко')))\n",
      "\t ште́ко ADJF,Fixd,Subx,Qual masc,sing,loct 0.0005523336095001382\n",
      "\n",
      "Parse(word='ште́ко', tag=OpencorporaTag('ADJF,Fixd,Subx,Qual femn,sing,nomn'), normal_form='ште́ко', score=0.0005523336095001382, methods_stack=((<FakeDictionary>, 'ште́ко', 180, 6), (<KnownSuffixAnalyzer>, 'ко')))\n",
      "\t ште́ко ADJF,Fixd,Subx,Qual femn,sing,nomn 0.0005523336095001382\n",
      "\n",
      "Parse(word='ште́ко', tag=OpencorporaTag('ADJF,Fixd,Subx,Qual femn,sing,gent'), normal_form='ште́ко', score=0.0005523336095001382, methods_stack=((<FakeDictionary>, 'ште́ко', 180, 7), (<KnownSuffixAnalyzer>, 'ко')))\n",
      "\t ште́ко ADJF,Fixd,Subx,Qual femn,sing,gent 0.0005523336095001382\n",
      "\n",
      "Parse(word='ште́ко', tag=OpencorporaTag('ADJF,Fixd,Subx,Qual femn,sing,datv'), normal_form='ште́ко', score=0.0005523336095001382, methods_stack=((<FakeDictionary>, 'ште́ко', 180, 8), (<KnownSuffixAnalyzer>, 'ко')))\n",
      "\t ште́ко ADJF,Fixd,Subx,Qual femn,sing,datv 0.0005523336095001382\n",
      "\n",
      "Parse(word='ште́ко', tag=OpencorporaTag('ADJF,Fixd,Subx,Qual femn,sing,accs'), normal_form='ште́ко', score=0.0005523336095001382, methods_stack=((<FakeDictionary>, 'ште́ко', 180, 9), (<KnownSuffixAnalyzer>, 'ко')))\n",
      "\t ште́ко ADJF,Fixd,Subx,Qual femn,sing,accs 0.0005523336095001382\n",
      "\n",
      "Parse(word='ште́ко', tag=OpencorporaTag('ADJF,Fixd,Subx,Qual femn,sing,ablt'), normal_form='ште́ко', score=0.0005523336095001382, methods_stack=((<FakeDictionary>, 'ште́ко', 180, 10), (<KnownSuffixAnalyzer>, 'ко')))\n",
      "\t ште́ко ADJF,Fixd,Subx,Qual femn,sing,ablt 0.0005523336095001382\n",
      "\n",
      "Parse(word='ште́ко', tag=OpencorporaTag('ADJF,Fixd,Subx,Qual femn,sing,loct'), normal_form='ште́ко', score=0.0005523336095001382, methods_stack=((<FakeDictionary>, 'ште́ко', 180, 11), (<KnownSuffixAnalyzer>, 'ко')))\n",
      "\t ште́ко ADJF,Fixd,Subx,Qual femn,sing,loct 0.0005523336095001382\n",
      "\n",
      "Parse(word='ште́ко', tag=OpencorporaTag('ADJF,Fixd,Subx,Qual neut,sing,nomn'), normal_form='ште́ко', score=0.0005523336095001382, methods_stack=((<FakeDictionary>, 'ште́ко', 180, 12), (<KnownSuffixAnalyzer>, 'ко')))\n",
      "\t ште́ко ADJF,Fixd,Subx,Qual neut,sing,nomn 0.0005523336095001382\n",
      "\n",
      "Parse(word='ште́ко', tag=OpencorporaTag('ADJF,Fixd,Subx,Qual neut,sing,gent'), normal_form='ште́ко', score=0.0005523336095001382, methods_stack=((<FakeDictionary>, 'ште́ко', 180, 13), (<KnownSuffixAnalyzer>, 'ко')))\n",
      "\t ште́ко ADJF,Fixd,Subx,Qual neut,sing,gent 0.0005523336095001382\n",
      "\n",
      "Parse(word='ште́ко', tag=OpencorporaTag('ADJF,Fixd,Subx,Qual neut,sing,datv'), normal_form='ште́ко', score=0.0005523336095001382, methods_stack=((<FakeDictionary>, 'ште́ко', 180, 14), (<KnownSuffixAnalyzer>, 'ко')))\n",
      "\t ште́ко ADJF,Fixd,Subx,Qual neut,sing,datv 0.0005523336095001382\n",
      "\n",
      "Parse(word='ште́ко', tag=OpencorporaTag('ADJF,Fixd,Subx,Qual neut,sing,accs'), normal_form='ште́ко', score=0.0005523336095001382, methods_stack=((<FakeDictionary>, 'ште́ко', 180, 15), (<KnownSuffixAnalyzer>, 'ко')))\n",
      "\t ште́ко ADJF,Fixd,Subx,Qual neut,sing,accs 0.0005523336095001382\n",
      "\n",
      "Parse(word='ште́ко', tag=OpencorporaTag('ADJF,Fixd,Subx,Qual neut,sing,ablt'), normal_form='ште́ко', score=0.0005523336095001382, methods_stack=((<FakeDictionary>, 'ште́ко', 180, 16), (<KnownSuffixAnalyzer>, 'ко')))\n",
      "\t ште́ко ADJF,Fixd,Subx,Qual neut,sing,ablt 0.0005523336095001382\n",
      "\n",
      "Parse(word='ште́ко', tag=OpencorporaTag('ADJF,Fixd,Subx,Qual neut,sing,loct'), normal_form='ште́ко', score=0.0005523336095001382, methods_stack=((<FakeDictionary>, 'ште́ко', 180, 17), (<KnownSuffixAnalyzer>, 'ко')))\n",
      "\t ште́ко ADJF,Fixd,Subx,Qual neut,sing,loct 0.0005523336095001382\n",
      "\n",
      "Parse(word='ште́ко', tag=OpencorporaTag('ADJF,Fixd,Subx,Qual plur,nomn'), normal_form='ште́ко', score=0.0005523336095001382, methods_stack=((<FakeDictionary>, 'ште́ко', 180, 18), (<KnownSuffixAnalyzer>, 'ко')))\n",
      "\t ште́ко ADJF,Fixd,Subx,Qual plur,nomn 0.0005523336095001382\n",
      "\n",
      "Parse(word='ште́ко', tag=OpencorporaTag('ADJF,Fixd,Subx,Qual plur,gent'), normal_form='ште́ко', score=0.0005523336095001382, methods_stack=((<FakeDictionary>, 'ште́ко', 180, 19), (<KnownSuffixAnalyzer>, 'ко')))\n",
      "\t ште́ко ADJF,Fixd,Subx,Qual plur,gent 0.0005523336095001382\n",
      "\n",
      "Parse(word='ште́ко', tag=OpencorporaTag('ADJF,Fixd,Subx,Qual plur,datv'), normal_form='ште́ко', score=0.0005523336095001382, methods_stack=((<FakeDictionary>, 'ште́ко', 180, 20), (<KnownSuffixAnalyzer>, 'ко')))\n",
      "\t ште́ко ADJF,Fixd,Subx,Qual plur,datv 0.0005523336095001382\n",
      "\n",
      "Parse(word='ште́ко', tag=OpencorporaTag('ADJF,Fixd,Subx,Qual plur,accs'), normal_form='ште́ко', score=0.0005523336095001382, methods_stack=((<FakeDictionary>, 'ште́ко', 180, 21), (<KnownSuffixAnalyzer>, 'ко')))\n",
      "\t ште́ко ADJF,Fixd,Subx,Qual plur,accs 0.0005523336095001382\n",
      "\n",
      "Parse(word='ште́ко', tag=OpencorporaTag('ADJF,Fixd,Subx,Qual plur,ablt'), normal_form='ште́ко', score=0.0005523336095001382, methods_stack=((<FakeDictionary>, 'ште́ко', 180, 22), (<KnownSuffixAnalyzer>, 'ко')))\n",
      "\t ште́ко ADJF,Fixd,Subx,Qual plur,ablt 0.0005523336095001382\n",
      "\n",
      "Parse(word='ште́ко', tag=OpencorporaTag('ADJF,Fixd,Subx,Qual plur,loct'), normal_form='ште́ко', score=0.0005523336095001382, methods_stack=((<FakeDictionary>, 'ште́ко', 180, 23), (<KnownSuffixAnalyzer>, 'ко')))\n",
      "\t ште́ко ADJF,Fixd,Subx,Qual plur,loct 0.0005523336095001382\n",
      "\n",
      "будлану́ла\n",
      "Parse(word='будлану́ла', tag=OpencorporaTag('VERB,impf,tran femn,sing,past,indc'), normal_form='будлану́ть', score=0.8499077645480463, methods_stack=((<FakeDictionary>, 'будлану́ла', 206, 8), (<KnownSuffixAnalyzer>, 'ла')))\n",
      "\t будлану́ть VERB,impf,tran femn,sing,past,indc 0.8499077645480463\n",
      "\n",
      "Parse(word='будлану́ла', tag=OpencorporaTag('NOUN,inan,masc sing,gent'), normal_form='будлану́л', score=0.11235955056179775, methods_stack=((<FakeDictionary>, 'будлану́ла', 33, 1), (<KnownSuffixAnalyzer>, 'ла')))\n",
      "\t будлану́л NOUN,inan,masc sing,gent 0.11235955056179775\n",
      "\n",
      "Parse(word='будлану́ла', tag=OpencorporaTag('ADJS femn,sing'), normal_form='будлану́лый', score=0.03622337749454972, methods_stack=((<FakeDictionary>, 'будлану́ла', 72, 28), (<KnownSuffixAnalyzer>, 'ла')))\n",
      "\t будлану́лый ADJS femn,sing 0.03622337749454972\n",
      "\n",
      "Parse(word='будлану́ла', tag=OpencorporaTag('ADVB'), normal_form='будлану́ла', score=0.0015093073956062384, methods_stack=((<FakeDictionary>, 'будлану́ла', 3, 0), (<KnownSuffixAnalyzer>, 'ла')))\n",
      "\t будлану́ла ADVB 0.0015093073956062384\n",
      "\n",
      "бо́кра\n",
      "Parse(word='бо́кра', tag=OpencorporaTag('NOUN,inan,masc sing,gent'), normal_form='бо́кр', score=0.4444444444444445, methods_stack=((<FakeDictionary>, 'бо́кра', 33, 1), (<KnownSuffixAnalyzer>, 'кра')))\n",
      "\t бо́кр NOUN,inan,masc sing,gent 0.4444444444444445\n",
      "\n",
      "Parse(word='бо́кра', tag=OpencorporaTag('NOUN,inan,femn sing,nomn'), normal_form='бо́кра', score=0.4444444444444445, methods_stack=((<FakeDictionary>, 'бо́кра', 55, 0), (<KnownSuffixAnalyzer>, 'кра')))\n",
      "\t бо́кра NOUN,inan,femn sing,nomn 0.4444444444444445\n",
      "\n",
      "Parse(word='бо́кра', tag=OpencorporaTag('ADJS,Qual femn,sing'), normal_form='бо́крый', score=0.11111111111111112, methods_stack=((<FakeDictionary>, 'бо́кра', 4, 28), (<KnownSuffixAnalyzer>, 'кра')))\n",
      "\t бо́крый ADJS,Qual femn,sing 0.11111111111111112\n",
      "\n",
      "и\n",
      "Parse(word='и', tag=OpencorporaTag('CONJ'), normal_form='и', score=0.997671, methods_stack=((<DictionaryAnalyzer>, 'и', 20, 0),))\n",
      "\t и CONJ 0.997671\n",
      "\n",
      "Parse(word='и', tag=OpencorporaTag('INTJ'), normal_form='и', score=0.000436, methods_stack=((<DictionaryAnalyzer>, 'и', 21, 0),))\n",
      "\t и INTJ 0.000436\n",
      "\n",
      "Parse(word='и', tag=OpencorporaTag('PRCL'), normal_form='и', score=0.000145, methods_stack=((<DictionaryAnalyzer>, 'и', 22, 0),))\n",
      "\t и PRCL 0.000145\n",
      "\n",
      "Parse(word='и', tag=OpencorporaTag('NOUN,anim,masc,Fixd,Abbr sing,nomn'), normal_form='исполняющий', score=0.000145, methods_stack=((<DictionaryAnalyzer>, 'и', 3144, 12),))\n",
      "\t исполняющий NOUN,anim,masc,Fixd,Abbr sing,nomn 0.000145\n",
      "\n",
      "Parse(word='и', tag=OpencorporaTag('NOUN,anim,masc,Fixd,Abbr sing,gent'), normal_form='исполняющий', score=0.000145, methods_stack=((<DictionaryAnalyzer>, 'и', 3144, 13),))\n",
      "\t исполняющий NOUN,anim,masc,Fixd,Abbr sing,gent 0.000145\n",
      "\n",
      "Parse(word='и', tag=OpencorporaTag('NOUN,anim,masc,Fixd,Abbr sing,datv'), normal_form='исполняющий', score=0.000145, methods_stack=((<DictionaryAnalyzer>, 'и', 3144, 14),))\n",
      "\t исполняющий NOUN,anim,masc,Fixd,Abbr sing,datv 0.000145\n",
      "\n",
      "Parse(word='и', tag=OpencorporaTag('NOUN,anim,masc,Fixd,Abbr sing,accs'), normal_form='исполняющий', score=0.000145, methods_stack=((<DictionaryAnalyzer>, 'и', 3144, 15),))\n",
      "\t исполняющий NOUN,anim,masc,Fixd,Abbr sing,accs 0.000145\n",
      "\n",
      "Parse(word='и', tag=OpencorporaTag('NOUN,anim,masc,Fixd,Abbr sing,ablt'), normal_form='исполняющий', score=0.000145, methods_stack=((<DictionaryAnalyzer>, 'и', 3144, 16),))\n",
      "\t исполняющий NOUN,anim,masc,Fixd,Abbr sing,ablt 0.000145\n",
      "\n",
      "Parse(word='и', tag=OpencorporaTag('NOUN,anim,masc,Fixd,Abbr sing,loct'), normal_form='исполняющий', score=0.000145, methods_stack=((<DictionaryAnalyzer>, 'и', 3144, 17),))\n",
      "\t исполняющий NOUN,anim,masc,Fixd,Abbr sing,loct 0.000145\n",
      "\n",
      "Parse(word='и', tag=OpencorporaTag('NOUN,anim,masc,Fixd,Abbr plur,nomn'), normal_form='исполняющий', score=0.000145, methods_stack=((<DictionaryAnalyzer>, 'и', 3144, 18),))\n",
      "\t исполняющий NOUN,anim,masc,Fixd,Abbr plur,nomn 0.000145\n",
      "\n",
      "Parse(word='и', tag=OpencorporaTag('NOUN,anim,masc,Fixd,Abbr plur,gent'), normal_form='исполняющий', score=0.000145, methods_stack=((<DictionaryAnalyzer>, 'и', 3144, 19),))\n",
      "\t исполняющий NOUN,anim,masc,Fixd,Abbr plur,gent 0.000145\n",
      "\n",
      "Parse(word='и', tag=OpencorporaTag('NOUN,anim,masc,Fixd,Abbr plur,datv'), normal_form='исполняющий', score=0.000145, methods_stack=((<DictionaryAnalyzer>, 'и', 3144, 20),))\n",
      "\t исполняющий NOUN,anim,masc,Fixd,Abbr plur,datv 0.000145\n",
      "\n",
      "Parse(word='и', tag=OpencorporaTag('NOUN,anim,masc,Fixd,Abbr plur,accs'), normal_form='исполняющий', score=0.000145, methods_stack=((<DictionaryAnalyzer>, 'и', 3144, 21),))\n",
      "\t исполняющий NOUN,anim,masc,Fixd,Abbr plur,accs 0.000145\n",
      "\n",
      "Parse(word='и', tag=OpencorporaTag('NOUN,anim,masc,Fixd,Abbr plur,ablt'), normal_form='исполняющий', score=0.000145, methods_stack=((<DictionaryAnalyzer>, 'и', 3144, 22),))\n",
      "\t исполняющий NOUN,anim,masc,Fixd,Abbr plur,ablt 0.000145\n",
      "\n",
      "Parse(word='и', tag=OpencorporaTag('NOUN,anim,masc,Fixd,Abbr plur,loct'), normal_form='исполняющий', score=0.000145, methods_stack=((<DictionaryAnalyzer>, 'и', 3144, 23),))\n",
      "\t исполняющий NOUN,anim,masc,Fixd,Abbr plur,loct 0.000145\n",
      "\n",
      "курдя́чит\n",
      "Parse(word='курдя́чит', tag=OpencorporaTag('VERB,perf,tran sing,3per,futr,indc'), normal_form='курдя́чить', score=0.9411764705882354, methods_stack=((<FakeDictionary>, 'курдя́чит', 634, 9), (<KnownSuffixAnalyzer>, 'чит')))\n",
      "\t курдя́чить VERB,perf,tran sing,3per,futr,indc 0.9411764705882354\n",
      "\n",
      "Parse(word='курдя́чит', tag=OpencorporaTag('ADJS,Qual masc,sing'), normal_form='курдя́читый', score=0.007352941176470589, methods_stack=((<FakeDictionary>, 'курдя́чит', 4, 27), (<KnownSuffixAnalyzer>, 'чит')))\n",
      "\t курдя́читый ADJS,Qual masc,sing 0.007352941176470589\n",
      "\n",
      "Parse(word='курдя́чит', tag=OpencorporaTag('NOUN,anim,femn,Sgtm,Fixd,Name sing,nomn'), normal_form='курдя́чит', score=0.007352941176470589, methods_stack=((<FakeDictionary>, 'курдя́чит', 67, 0), (<KnownSuffixAnalyzer>, 'чит')))\n",
      "\t курдя́чит NOUN,anim,femn,Sgtm,Fixd,Name sing,nomn 0.007352941176470589\n",
      "\n",
      "Parse(word='курдя́чит', tag=OpencorporaTag('NOUN,anim,femn,Sgtm,Fixd,Name sing,gent'), normal_form='курдя́чит', score=0.007352941176470589, methods_stack=((<FakeDictionary>, 'курдя́чит', 67, 1), (<KnownSuffixAnalyzer>, 'чит')))\n",
      "\t курдя́чит NOUN,anim,femn,Sgtm,Fixd,Name sing,gent 0.007352941176470589\n",
      "\n",
      "Parse(word='курдя́чит', tag=OpencorporaTag('NOUN,anim,femn,Sgtm,Fixd,Name sing,datv'), normal_form='курдя́чит', score=0.007352941176470589, methods_stack=((<FakeDictionary>, 'курдя́чит', 67, 2), (<KnownSuffixAnalyzer>, 'чит')))\n",
      "\t курдя́чит NOUN,anim,femn,Sgtm,Fixd,Name sing,datv 0.007352941176470589\n",
      "\n",
      "Parse(word='курдя́чит', tag=OpencorporaTag('NOUN,anim,femn,Sgtm,Fixd,Name sing,accs'), normal_form='курдя́чит', score=0.007352941176470589, methods_stack=((<FakeDictionary>, 'курдя́чит', 67, 3), (<KnownSuffixAnalyzer>, 'чит')))\n",
      "\t курдя́чит NOUN,anim,femn,Sgtm,Fixd,Name sing,accs 0.007352941176470589\n",
      "\n",
      "Parse(word='курдя́чит', tag=OpencorporaTag('NOUN,anim,femn,Sgtm,Fixd,Name sing,ablt'), normal_form='курдя́чит', score=0.007352941176470589, methods_stack=((<FakeDictionary>, 'курдя́чит', 67, 4), (<KnownSuffixAnalyzer>, 'чит')))\n",
      "\t курдя́чит NOUN,anim,femn,Sgtm,Fixd,Name sing,ablt 0.007352941176470589\n",
      "\n",
      "Parse(word='курдя́чит', tag=OpencorporaTag('NOUN,anim,femn,Sgtm,Fixd,Name sing,loct'), normal_form='курдя́чит', score=0.007352941176470589, methods_stack=((<FakeDictionary>, 'курдя́чит', 67, 5), (<KnownSuffixAnalyzer>, 'чит')))\n",
      "\t курдя́чит NOUN,anim,femn,Sgtm,Fixd,Name sing,loct 0.007352941176470589\n",
      "\n",
      "Parse(word='курдя́чит', tag=OpencorporaTag('ADJS masc,sing'), normal_form='курдя́читый', score=0.007352941176470589, methods_stack=((<FakeDictionary>, 'курдя́чит', 188, 27), (<KnownSuffixAnalyzer>, 'чит')))\n",
      "\t курдя́читый ADJS masc,sing 0.007352941176470589\n",
      "\n",
      "бокрёнка\n",
      "Parse(word='бокрёнка', tag=OpencorporaTag('NOUN,anim,masc sing,gent'), normal_form='бокрёнок', score=0.49999999999999994, methods_stack=((<FakeDictionary>, 'бокрёнка', 197, 1), (<KnownSuffixAnalyzer>, 'рёнка')))\n",
      "\t бокрёнок NOUN,anim,masc sing,gent 0.49999999999999994\n",
      "\n",
      "Parse(word='бокрёнка', tag=OpencorporaTag('NOUN,anim,masc sing,accs'), normal_form='бокрёнок', score=0.49999999999999994, methods_stack=((<FakeDictionary>, 'бокрёнка', 197, 3), (<KnownSuffixAnalyzer>, 'рёнка')))\n",
      "\t бокрёнок NOUN,anim,masc sing,accs 0.49999999999999994\n",
      "\n"
     ]
    }
   ],
   "source": [
    "# собираем результаты и выводим \n",
    "for word_result in pymorphy_results:\n",
    "    print(word_result[0].word)\n",
    "    for res in word_result:\n",
    "        print(res)\n",
    "        print('\\t', res.normal_form, res.tag, res.score, end='\\n\\n')"
   ]
  },
  {
   "cell_type": "markdown",
   "metadata": {},
   "source": [
    "В отличие от mystem можно получать лексему и склонять слова"
   ]
  },
  {
   "cell_type": "code",
   "execution_count": 152,
   "metadata": {},
   "outputs": [
    {
     "data": {
      "text/plain": [
       "Parse(word='стали', tag=OpencorporaTag('VERB,perf,intr plur,past,indc'), normal_form='стать', score=0.984662, methods_stack=((<DictionaryAnalyzer>, 'стали', 904, 4),))"
      ]
     },
     "execution_count": 152,
     "metadata": {},
     "output_type": "execute_result"
    }
   ],
   "source": [
    "morph.parse('стали')[0]"
   ]
  },
  {
   "cell_type": "code",
   "execution_count": 111,
   "metadata": {
    "scrolled": true
   },
   "outputs": [
    {
     "name": "stdout",
     "output_type": "stream",
     "text": [
      "стать INFN,perf,intr\n",
      "стал VERB,perf,intr masc,sing,past,indc\n",
      "стала VERB,perf,intr femn,sing,past,indc\n",
      "стало VERB,perf,intr neut,sing,past,indc\n",
      "стали VERB,perf,intr plur,past,indc\n",
      "стану VERB,perf,intr sing,1per,futr,indc\n",
      "станем VERB,perf,intr plur,1per,futr,indc\n",
      "станешь VERB,perf,intr sing,2per,futr,indc\n",
      "станете VERB,perf,intr plur,2per,futr,indc\n",
      "станет VERB,perf,intr sing,3per,futr,indc\n",
      "станут VERB,perf,intr plur,3per,futr,indc\n",
      "станем VERB,perf,intr sing,impr,incl\n",
      "станемте VERB,perf,intr plur,impr,incl\n",
      "стань VERB,perf,intr sing,impr,excl\n",
      "станьте VERB,perf,intr plur,impr,excl\n",
      "ставший PRTF,perf,intr,past,actv masc,sing,nomn\n",
      "ставшего PRTF,perf,intr,past,actv masc,sing,gent\n",
      "ставшему PRTF,perf,intr,past,actv masc,sing,datv\n",
      "ставшего PRTF,perf,intr,past,actv anim,masc,sing,accs\n",
      "ставший PRTF,perf,intr,past,actv inan,masc,sing,accs\n",
      "ставшим PRTF,perf,intr,past,actv masc,sing,ablt\n",
      "ставшем PRTF,perf,intr,past,actv masc,sing,loct\n",
      "ставшая PRTF,perf,intr,past,actv femn,sing,nomn\n",
      "ставшей PRTF,perf,intr,past,actv femn,sing,gent\n",
      "ставшей PRTF,perf,intr,past,actv femn,sing,datv\n",
      "ставшую PRTF,perf,intr,past,actv femn,sing,accs\n",
      "ставшей PRTF,perf,intr,past,actv femn,sing,ablt\n",
      "ставшею PRTF,perf,intr,past,actv femn,sing,ablt,V-ey\n",
      "ставшей PRTF,perf,intr,past,actv femn,sing,loct\n",
      "ставшее PRTF,perf,intr,past,actv neut,sing,nomn\n",
      "ставшего PRTF,perf,intr,past,actv neut,sing,gent\n",
      "ставшему PRTF,perf,intr,past,actv neut,sing,datv\n",
      "ставшее PRTF,perf,intr,past,actv neut,sing,accs\n",
      "ставшим PRTF,perf,intr,past,actv neut,sing,ablt\n",
      "ставшем PRTF,perf,intr,past,actv neut,sing,loct\n",
      "ставшие PRTF,perf,intr,past,actv plur,nomn\n",
      "ставших PRTF,perf,intr,past,actv plur,gent\n",
      "ставшим PRTF,perf,intr,past,actv plur,datv\n",
      "ставших PRTF,perf,intr,past,actv anim,plur,accs\n",
      "ставшие PRTF,perf,intr,past,actv inan,plur,accs\n",
      "ставшими PRTF,perf,intr,past,actv plur,ablt\n",
      "ставших PRTF,perf,intr,past,actv plur,loct\n",
      "став GRND,perf,intr past\n",
      "ставши GRND,perf,intr past,V-sh\n"
     ]
    }
   ],
   "source": [
    "bokr = morph.parse('стали')[0] # самое вероятное состояние - 0\n",
    "for form in bokr.lexeme:\n",
    "    print(form.word, form.tag)"
   ]
  },
  {
   "cell_type": "code",
   "execution_count": 155,
   "metadata": {},
   "outputs": [
    {
     "data": {
      "text/plain": [
       "'NOUN'"
      ]
     },
     "execution_count": 155,
     "metadata": {},
     "output_type": "execute_result"
    }
   ],
   "source": [
    "bokr = morph.parse('стали')[1]\n",
    "bokr.tag.POS"
   ]
  },
  {
   "cell_type": "code",
   "execution_count": 143,
   "metadata": {
    "scrolled": true
   },
   "outputs": [
    {
     "name": "stdout",
     "output_type": "stream",
     "text": [
      "стали\n",
      "стали\n",
      "сталей\n",
      "сталей\n",
      "сталей\n"
     ]
    }
   ],
   "source": [
    "print(bokr.inflect({'loct'}).word) # слово в форме 'loct'\n",
    "print(bokr.make_agree_with_number(1).word)\n",
    "print(bokr.make_agree_with_number(2).word)\n",
    "print(bokr.make_agree_with_number(3).word)\n",
    "print(bokr.make_agree_with_number(20).word)"
   ]
  },
  {
   "cell_type": "markdown",
   "metadata": {},
   "source": [
    "#### Задание \n",
    "С помощью pymorphy на тексте получить:\n",
    "- Распределение по частям речи\n",
    "- Для части речи вывести топ n лексем"
   ]
  },
  {
   "cell_type": "code",
   "execution_count": 144,
   "metadata": {
    "scrolled": false
   },
   "outputs": [
    {
     "data": {
      "text/plain": [
       "'Дима шел по улице. Дима ел пирожок. На улице было тепло. Пирожок был вкусным. Дима сегодня молодец.'"
      ]
     },
     "execution_count": 144,
     "metadata": {},
     "output_type": "execute_result"
    }
   ],
   "source": [
    "text"
   ]
  },
  {
   "cell_type": "code",
   "execution_count": 219,
   "metadata": {},
   "outputs": [],
   "source": [
    "def get_pos_distribution(text, lexemas=None):\n",
    "    '''\n",
    "    :param: text: input text in russian\n",
    "    :param: lexemas: list of interested pos, if None - all are interesting \n",
    "    :return: dict of pos - probability\n",
    "    '''\n",
    "    words = []\n",
    "    words = [word for word in text.split() if word.isalpha()]\n",
    "    prob_pos = {}\n",
    "    num = 0\n",
    "    \n",
    "    for word in words:\n",
    "        if lexemas == None:\n",
    "            num += 1\n",
    "            pos = morph.parse(word)[0].tag.POS\n",
    "            if pos in prob_pos:\n",
    "                prob_pos[pos] += 1\n",
    "            else:\n",
    "                prob_pos[pos] = 1\n",
    "        else:\n",
    "            pos = morph.parse(word)[0].tag.POS\n",
    "            if pos in lexemas:\n",
    "                num += 1\n",
    "                if pos in prob_pos:\n",
    "                    prob_pos[pos] += 1\n",
    "                else:\n",
    "                    prob_pos[pos] = 1 \n",
    "                    \n",
    "    for pos in prob_pos:\n",
    "        prob_pos[pos] /= num\n",
    "    return prob_pos\n",
    "\n",
    "\n",
    "def get_top_pos_words(text, pos, n):\n",
    "    '''\n",
    "    :param text: input text in russian\n",
    "    :param pos: part of speech \n",
    "    :param n: number of most common words\n",
    "    :return: list of most common lexemas with selected pos\n",
    "    '''\n",
    "    res = mystem_analyzer.lemmatize(text)\n",
    "    word_num = FreqDist(res)\n",
    "\n",
    "    return [word for word in word_num if morph.parse(word)[0].tag.POS == pos][:n]    "
   ]
  },
  {
   "cell_type": "code",
   "execution_count": 189,
   "metadata": {
    "scrolled": true
   },
   "outputs": [
    {
     "data": {
      "text/plain": [
       "{'NOUN': 0.4166666666666667,\n",
       " 'VERB': 0.3333333333333333,\n",
       " 'PREP': 0.16666666666666666,\n",
       " 'ADVB': 0.08333333333333333}"
      ]
     },
     "execution_count": 189,
     "metadata": {},
     "output_type": "execute_result"
    }
   ],
   "source": [
    "get_pos_distribution(text, lexemas=None)"
   ]
  },
  {
   "cell_type": "code",
   "execution_count": 190,
   "metadata": {},
   "outputs": [
    {
     "data": {
      "text/plain": [
       "{'NOUN': 0.5555555555555556, 'VERB': 0.4444444444444444}"
      ]
     },
     "execution_count": 190,
     "metadata": {},
     "output_type": "execute_result"
    }
   ],
   "source": [
    "get_pos_distribution(text, lexemas=['NOUN', 'VERB'])"
   ]
  },
  {
   "cell_type": "code",
   "execution_count": 220,
   "metadata": {
    "scrolled": true
   },
   "outputs": [
    {
     "data": {
      "text/plain": [
       "['дима', 'улица', 'пирожок']"
      ]
     },
     "execution_count": 220,
     "metadata": {},
     "output_type": "execute_result"
    }
   ],
   "source": [
    "get_top_pos_words(text, 'NOUN', 3)"
   ]
  },
  {
   "cell_type": "code",
   "execution_count": null,
   "metadata": {},
   "outputs": [],
   "source": []
  }
 ],
 "metadata": {
  "kernelspec": {
   "display_name": "Python 3",
   "language": "python",
   "name": "python3"
  },
  "language_info": {
   "codemirror_mode": {
    "name": "ipython",
    "version": 3
   },
   "file_extension": ".py",
   "mimetype": "text/x-python",
   "name": "python",
   "nbconvert_exporter": "python",
   "pygments_lexer": "ipython3",
   "version": "3.7.2"
  }
 },
 "nbformat": 4,
 "nbformat_minor": 2
}
